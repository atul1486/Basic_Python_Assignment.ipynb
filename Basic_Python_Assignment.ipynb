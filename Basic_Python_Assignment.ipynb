{
 "cells": [
  {
   "cell_type": "markdown",
   "id": "26558722",
   "metadata": {},
   "source": [
    "# Basic Python Assignment "
   ]
  },
  {
   "cell_type": "markdown",
   "id": "f727b357",
   "metadata": {},
   "source": [
    "### What is 7 to the power of 4?"
   ]
  },
  {
   "cell_type": "code",
   "execution_count": 1,
   "id": "e5f65d36",
   "metadata": {},
   "outputs": [
    {
     "data": {
      "text/plain": [
       "2401"
      ]
     },
     "execution_count": 1,
     "metadata": {},
     "output_type": "execute_result"
    }
   ],
   "source": [
    "7**4"
   ]
  },
  {
   "cell_type": "markdown",
   "id": "236abfeb",
   "metadata": {},
   "source": [
    "### String Splitting"
   ]
  },
  {
   "cell_type": "code",
   "execution_count": 2,
   "id": "7eb8466f",
   "metadata": {},
   "outputs": [
    {
     "data": {
      "text/plain": [
       "['Hi', 'there', 'Atul!']"
      ]
     },
     "execution_count": 2,
     "metadata": {},
     "output_type": "execute_result"
    }
   ],
   "source": [
    "s = \"Hi there Atul!\"\n",
    "s.split()"
   ]
  },
  {
   "cell_type": "markdown",
   "id": "f9395d7e",
   "metadata": {},
   "source": [
    "### Use .format() to print the following string "
   ]
  },
  {
   "cell_type": "code",
   "execution_count": 5,
   "id": "8f292c67",
   "metadata": {},
   "outputs": [
    {
     "data": {
      "text/plain": [
       "'The diameter of Earth is 12742 kilometers'"
      ]
     },
     "execution_count": 5,
     "metadata": {},
     "output_type": "execute_result"
    }
   ],
   "source": [
    "planet = \"Earth\"\n",
    "diameter = 12742\n",
    "'The diameter of {} is {} kilometers'.format(planet, diameter)"
   ]
  },
  {
   "cell_type": "markdown",
   "id": "acf29095",
   "metadata": {},
   "source": [
    "### Given this nested list, use indexing to grab the word \"hello\" "
   ]
  },
  {
   "cell_type": "code",
   "execution_count": 16,
   "id": "fff5755b",
   "metadata": {},
   "outputs": [
    {
     "data": {
      "text/plain": [
       "'hello'"
      ]
     },
     "execution_count": 16,
     "metadata": {},
     "output_type": "execute_result"
    }
   ],
   "source": [
    "a = [1,2,[3,4],[5,[100,200,['hello']],23,11],1,7]\n",
    "a[3][1][2][0]"
   ]
  },
  {
   "cell_type": "markdown",
   "id": "a8f646e6",
   "metadata": {},
   "source": [
    "### Given this nested dictionary grab the word \"hello\"."
   ]
  },
  {
   "cell_type": "code",
   "execution_count": 19,
   "id": "26c4809d",
   "metadata": {},
   "outputs": [],
   "source": [
    "d = {'k1':[1,2,3,{'tricky':['oh','man','inception',{'target':[1,2,3,'hello']}]}]}"
   ]
  },
  {
   "cell_type": "code",
   "execution_count": 31,
   "id": "60bba955",
   "metadata": {},
   "outputs": [
    {
     "data": {
      "text/plain": [
       "'hello'"
      ]
     },
     "execution_count": 31,
     "metadata": {},
     "output_type": "execute_result"
    }
   ],
   "source": [
    "d['k1'][3]['tricky'][3]['target'][3]"
   ]
  },
  {
   "cell_type": "markdown",
   "id": "df538c0e",
   "metadata": {},
   "source": [
    "### What is the main difference between a tuple and a list"
   ]
  },
  {
   "cell_type": "markdown",
   "id": "9a35825e",
   "metadata": {},
   "source": [
    "##### Tuple is immutable"
   ]
  },
  {
   "cell_type": "markdown",
   "id": "cbba6b39",
   "metadata": {},
   "source": [
    "### Create a function that grabs the email website domain from a string in the form"
   ]
  },
  {
   "cell_type": "code",
   "execution_count": 34,
   "id": "41630b6d",
   "metadata": {},
   "outputs": [
    {
     "data": {
      "text/plain": [
       "'gmail.com'"
      ]
     },
     "execution_count": 34,
     "metadata": {},
     "output_type": "execute_result"
    }
   ],
   "source": [
    "s='atul.kashid140786@gmail.com'\n",
    "s.split('@')[1]"
   ]
  },
  {
   "cell_type": "markdown",
   "id": "4f287231",
   "metadata": {},
   "source": [
    "### Create a basic function that returns True if the word 'dog' is contained in the input string. Don't worry about edge cases like a punctuation being attached to the word dog, but do account for capitalization"
   ]
  },
  {
   "cell_type": "code",
   "execution_count": 69,
   "id": "575f6386",
   "metadata": {},
   "outputs": [],
   "source": [
    "def find_dog(s):\n",
    "    if 'dog' in s:\n",
    "        return True\n",
    "    else:\n",
    "        return False"
   ]
  },
  {
   "cell_type": "code",
   "execution_count": 70,
   "id": "c01ea3a6",
   "metadata": {},
   "outputs": [
    {
     "data": {
      "text/plain": [
       "True"
      ]
     },
     "execution_count": 70,
     "metadata": {},
     "output_type": "execute_result"
    }
   ],
   "source": [
    "find_dog('Is there a dog here?')"
   ]
  },
  {
   "cell_type": "markdown",
   "id": "97f9a2fc",
   "metadata": {},
   "source": [
    "### Create a function that counts the number of times the word \"dog\" occurs in a string. Again ignore edge cases"
   ]
  },
  {
   "cell_type": "code",
   "execution_count": 61,
   "id": "5a89cd41",
   "metadata": {},
   "outputs": [
    {
     "name": "stdout",
     "output_type": "stream",
     "text": [
      "2\n"
     ]
    }
   ],
   "source": [
    "s='This dog runs faster than the other dog dude!'\n",
    "count_dog=0\n",
    "for i in s.lower().split():\n",
    "    if i==\"dog\":\n",
    "        count_dog=count_dog+1\n",
    "print(count_dog)"
   ]
  },
  {
   "cell_type": "markdown",
   "id": "4125c50f",
   "metadata": {},
   "source": [
    "###  Use lambda expressions and the filter() function to filter out words from a list that don't start with the letter 's'."
   ]
  },
  {
   "cell_type": "code",
   "execution_count": 76,
   "id": "348b8fbb",
   "metadata": {},
   "outputs": [
    {
     "data": {
      "text/plain": [
       "['dog', 'cat', 'great']"
      ]
     },
     "execution_count": 76,
     "metadata": {},
     "output_type": "execute_result"
    }
   ],
   "source": [
    "seq = ['soup','dog','salad','cat','great']\n",
    "lambda1=lambda x:x[0]!='s'\n",
    "list(filter(lambda1,seq))"
   ]
  },
  {
   "cell_type": "markdown",
   "id": "974ce210",
   "metadata": {},
   "source": [
    "### You are driving a little too fast, and a police officer stops you. Write a function to return one of 3 possible results: \"No ticket\", \"Small ticket\", or \"Big Ticket\". If your speed is 60 or less, the result is \"No Ticket\". If speed is between 61 and 80 inclusive, the result is \"Small Ticket\". If speed is 81 or more, the result is \"Big Ticket\". Unless it is your birthday (encoded as a boolean value in the parameters of the function) -- on your birthday, your speed can be 5 higher in all cases"
   ]
  },
  {
   "cell_type": "code",
   "execution_count": 82,
   "id": "6c434280",
   "metadata": {},
   "outputs": [],
   "source": [
    "def caught_speeding(speed,birthday):\n",
    "    if birthday == True:\n",
    "        speed1 = speed-5\n",
    "    else:\n",
    "        speed1=speed\n",
    "    if speed1 >=81:\n",
    "            print('Big ticket')\n",
    "    elif speed>60 & speed<81:\n",
    "            print('Small ticket')\n",
    "    else:\n",
    "        print('No Ticket')"
   ]
  },
  {
   "cell_type": "markdown",
   "id": "27a978be",
   "metadata": {},
   "source": [
    "### Given a string print number num by extracting all the\n",
    "digits from the string as in string\n",
    "Print negative number if the first character in \n",
    "string is '-'\n",
    "eg.\n",
    "-123abcd should return -123,abcd456-->456,fdhfh78dsd89--->7889,-56dssd78-->-5678"
   ]
  },
  {
   "cell_type": "code",
   "execution_count": 4,
   "id": "b7b43be1",
   "metadata": {},
   "outputs": [
    {
     "name": "stdout",
     "output_type": "stream",
     "text": [
      "Enter the string-abc123\n",
      "-123\n"
     ]
    }
   ],
   "source": [
    "m = input('Enter the string')\n",
    "n=\"\"\n",
    "a=[0,1,2,3,4,5,6,7,8,9]\n",
    "if m[0]==\"-\":\n",
    "    n=n+m[0]\n",
    "for c in m:\n",
    "    if c in str(a):\n",
    "        n=n+c\n",
    "print(n)"
   ]
  },
  {
   "cell_type": "markdown",
   "id": "8f636754",
   "metadata": {},
   "source": [
    "### WAP to check whether a number is palindrome or not on following conditions.\n",
    "1. take input number\n",
    "2. add number and its reverse\n",
    "3. check that number is palindrome or not,if not then sum and its reverse"
   ]
  },
  {
   "cell_type": "code",
   "execution_count": 22,
   "id": "93e7960a",
   "metadata": {},
   "outputs": [
    {
     "name": "stdout",
     "output_type": "stream",
     "text": [
      "enter the number:88\n",
      "Number is  847\n",
      "Reverse is 748\n",
      "Number is  1595\n",
      "Reverse is 5951\n",
      "Number is  7546\n",
      "Reverse is 6457\n",
      "Number is  14003\n",
      "Reverse is 30041\n",
      "Number is  44044\n",
      "Reverse is 44044\n",
      "Palindrome is: 44044\n"
     ]
    }
   ],
   "source": [
    "a=input('enter the number:')\n",
    "b=int(a[::-1])\n",
    "c=str(int(a)+b)\n",
    "while str(c)!=str(c[::-1]):\n",
    "    c=str(int(c)+int(c[::-1]))\n",
    "    print(\"Number is \",c)\n",
    "    print(\"Reverse is\", c[::-1])\n",
    "print('Palindrome is:',c)"
   ]
  },
  {
   "cell_type": "markdown",
   "id": "c8b825b5",
   "metadata": {},
   "source": [
    "### Write a python function to find and display the five \n",
    "digit number in which the first digit is two more than \n",
    "the second,the second digit is two more than the third,\n",
    "the fourth digit is two less than the third, and the \n",
    "last digit is two more than\n",
    "the fourth.The sum of the third,fourth and fifth digits\n",
    "equals the first.The sum of all the digits is 19"
   ]
  },
  {
   "cell_type": "code",
   "execution_count": 40,
   "id": "9b957981",
   "metadata": {},
   "outputs": [
    {
     "name": "stdout",
     "output_type": "stream",
     "text": [
      "75313\n"
     ]
    }
   ],
   "source": [
    "for i in range(9,0,-1):\n",
    "    first = i\n",
    "    second=i-2\n",
    "    third=i-4\n",
    "    fourth=i-6\n",
    "    fifth=i-4\n",
    "    if int(third+fourth+fifth)==int(first) and int(first+second+third+fourth+fifth)==19:\n",
    "        print(str(first)+str(second)+str(third)+str(fourth)+str(fifth))"
   ]
  }
 ],
 "metadata": {
  "kernelspec": {
   "display_name": "Python 3 (ipykernel)",
   "language": "python",
   "name": "python3"
  },
  "language_info": {
   "codemirror_mode": {
    "name": "ipython",
    "version": 3
   },
   "file_extension": ".py",
   "mimetype": "text/x-python",
   "name": "python",
   "nbconvert_exporter": "python",
   "pygments_lexer": "ipython3",
   "version": "3.9.7"
  }
 },
 "nbformat": 4,
 "nbformat_minor": 5
}
